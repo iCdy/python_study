{
 "cells": [
  {
   "cell_type": "markdown",
   "metadata": {},
   "source": [
    "## 字典列表"
   ]
  },
  {
   "cell_type": "code",
   "execution_count": 3,
   "metadata": {},
   "outputs": [
    {
     "name": "stdout",
     "output_type": "stream",
     "text": [
      "{'name': 'abc', 'age': 5}\n",
      "{'name': 'def', 'age': 6}\n",
      "{'name': 'hij', 'age': 5.5}\n"
     ]
    }
   ],
   "source": [
    "alien_0 = {'name': 'abc', 'age': 5}\n",
    "alien_1 = {'name': 'def', 'age': 6}\n",
    "alien_2 = {'name': 'hij', 'age': 5.5}\n",
    "\n",
    "aliens = [alien_0, alien_1, alien_2]\n",
    "\n",
    "for alien in aliens:\n",
    "    print(alien)\n"
   ]
  },
  {
   "cell_type": "code",
   "execution_count": 4,
   "metadata": {},
   "outputs": [
    {
     "name": "stdout",
     "output_type": "stream",
     "text": [
      "{'name': 'sb', 'age': 3}\n",
      "{'name': 'sb', 'age': 3}\n",
      "{'name': 'sb', 'age': 3}\n",
      "{'name': 'sb', 'age': 3}\n",
      "{'name': 'sb', 'age': 3}\n",
      "30\n"
     ]
    }
   ],
   "source": [
    "aliens = []\n",
    "\n",
    "for alien_number in range(30):\n",
    "    alien = {'name': 'sb', 'age': 3}\n",
    "    aliens.append(alien)\n",
    "\n",
    "for alien in aliens[:5]:\n",
    "    print(alien)\n",
    "\n",
    "print(len(aliens))"
   ]
  },
  {
   "cell_type": "code",
   "execution_count": 5,
   "metadata": {},
   "outputs": [
    {
     "name": "stdout",
     "output_type": "stream",
     "text": [
      "{'name': 'sb', 'age': 4}\n",
      "{'name': 'sb', 'age': 4}\n",
      "{'name': 'sb', 'age': 4}\n",
      "{'name': 'sb', 'age': 4}\n",
      "{'name': 'sb', 'age': 4}\n",
      "{'name': 'sb', 'age': 4}\n",
      "{'name': 'sb', 'age': 4}\n",
      "{'name': 'sb', 'age': 4}\n",
      "{'name': 'sb', 'age': 4}\n",
      "{'name': 'sb', 'age': 4}\n",
      "{'name': 'sb', 'age': 3}\n",
      "{'name': 'sb', 'age': 3}\n",
      "{'name': 'sb', 'age': 3}\n",
      "{'name': 'sb', 'age': 3}\n",
      "{'name': 'sb', 'age': 3}\n"
     ]
    }
   ],
   "source": [
    "for alien in aliens[:10]:\n",
    "    alien['age'] = 4\n",
    "\n",
    "for alien in aliens[:15]:\n",
    "    print(alien)"
   ]
  },
  {
   "cell_type": "code",
   "execution_count": 8,
   "metadata": {},
   "outputs": [
    {
     "name": "stdout",
     "output_type": "stream",
     "text": [
      "{'name': 'dsb', 'age': 4}\n",
      "{'name': 'dsb', 'age': 4}\n",
      "{'name': 'dsb', 'age': 4}\n",
      "{'name': 'dsb', 'age': 4}\n",
      "{'name': 'dsb', 'age': 4}\n",
      "{'name': 'dsb', 'age': 4}\n",
      "{'name': 'dsb', 'age': 4}\n",
      "{'name': 'dsb', 'age': 4}\n",
      "{'name': 'dsb', 'age': 4}\n",
      "{'name': 'dsb', 'age': 4}\n"
     ]
    }
   ],
   "source": [
    "for alien in aliens:\n",
    "    if alien['age'] == 4:\n",
    "        alien['name'] = 'dsb'\n",
    "\n",
    "for alien in aliens[:10]:\n",
    "    print(alien)"
   ]
  },
  {
   "cell_type": "markdown",
   "metadata": {},
   "source": [
    "## 字典中的列表"
   ]
  },
  {
   "cell_type": "code",
   "execution_count": 12,
   "metadata": {},
   "outputs": [
    {
     "name": "stdout",
     "output_type": "stream",
     "text": [
      "\tapple\n",
      "\tbanana\n",
      "\tpeach\n"
     ]
    }
   ],
   "source": [
    "order = {\n",
    "    'name': 'cdy', \n",
    "    'fruits': ['apple', 'banana', 'peach']\n",
    "    }\n",
    "\n",
    "for fruit in order['fruits']:\n",
    "    print(f\"\\t{fruit}\")"
   ]
  },
  {
   "cell_type": "code",
   "execution_count": 16,
   "metadata": {},
   "outputs": [
    {
     "name": "stdout",
     "output_type": "stream",
     "text": [
      "ken :\n",
      "\t C\n",
      "\t python\n",
      "\t c++\n",
      "ane :\n",
      "\t C#\n",
      "\t python\n",
      "joh :\n",
      "\t python\n",
      "\t java\n"
     ]
    }
   ],
   "source": [
    "favorite_languages = {\n",
    "    'ken': ['C', 'python', 'c++'],\n",
    "    'ane': ['C#', 'python'],\n",
    "    'joh': ['python', 'java']\n",
    "}\n",
    "\n",
    "for name in favorite_languages:\n",
    "    print(name, ':')\n",
    "    for language in favorite_languages[name]:\n",
    "        print(\"\\t\",language)"
   ]
  },
  {
   "cell_type": "code",
   "execution_count": 26,
   "metadata": {},
   "outputs": [
    {
     "name": "stdout",
     "output_type": "stream",
     "text": [
      "User Name:  aeinstein :\n",
      "\tFull Name:  Albert Einstein\n",
      "\tLocation:  Princeton\n",
      "User Name:  mcurie :\n",
      "\tFull Name:  Marie Curie\n",
      "\tLocation:  Paris\n"
     ]
    }
   ],
   "source": [
    "users = {\n",
    "    'aeinstein': {\n",
    "        'first': 'albert',\n",
    "        'last': 'einstein',\n",
    "        'location': 'princeton',\n",
    "        },\n",
    "    'mcurie': {\n",
    "        'first': 'marie',\n",
    "        'last': 'curie',\n",
    "        'location': 'paris',\n",
    "        },\n",
    "}\n",
    "\n",
    "for user_name, user_info in users.items():\n",
    "    print(\"user name: \".title(), user_name, \":\")\n",
    "    print(\"\\tfull name: \".title(), \n",
    "        f\"{user_info['first']} {user_info['last']}\".title())\n",
    "    print(\"\\tlocation: \".title(), f\"{user_info['location']}\".title())"
   ]
  },
  {
   "cell_type": "code",
   "execution_count": null,
   "metadata": {},
   "outputs": [],
   "source": []
  }
 ],
 "metadata": {
  "kernelspec": {
   "display_name": "base",
   "language": "python",
   "name": "python3"
  },
  "language_info": {
   "codemirror_mode": {
    "name": "ipython",
    "version": 3
   },
   "file_extension": ".py",
   "mimetype": "text/x-python",
   "name": "python",
   "nbconvert_exporter": "python",
   "pygments_lexer": "ipython3",
   "version": "3.11.5"
  }
 },
 "nbformat": 4,
 "nbformat_minor": 2
}
