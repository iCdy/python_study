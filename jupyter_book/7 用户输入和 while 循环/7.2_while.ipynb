{
 "cells": [
  {
   "cell_type": "code",
   "execution_count": 1,
   "metadata": {},
   "outputs": [
    {
     "name": "stdout",
     "output_type": "stream",
     "text": [
      "1\n",
      "2\n",
      "3\n",
      "4\n"
     ]
    }
   ],
   "source": [
    "number = 1\n",
    "while number < 5:\n",
    "    print(number)\n",
    "    number += 1"
   ]
  },
  {
   "cell_type": "code",
   "execution_count": 6,
   "metadata": {},
   "outputs": [
    {
     "name": "stdout",
     "output_type": "stream",
     "text": [
      "\n"
     ]
    }
   ],
   "source": [
    "prompt = \"tell me something without quit: \"\n",
    "message = \"\"\n",
    "while message != \"quit\":\n",
    "    print(message)\n",
    "    message = input(prompt)"
   ]
  },
  {
   "cell_type": "code",
   "execution_count": 9,
   "metadata": {},
   "outputs": [
    {
     "name": "stdout",
     "output_type": "stream",
     "text": [
      "lan\n",
      "I love u\n",
      "heihei\n"
     ]
    }
   ],
   "source": [
    "active = True\n",
    "while active:\n",
    "    message = input(prompt)\n",
    "    if message != \"quit\":\n",
    "        print(message)\n",
    "    else:\n",
    "        active = False"
   ]
  },
  {
   "cell_type": "code",
   "execution_count": 10,
   "metadata": {},
   "outputs": [
    {
     "name": "stdout",
     "output_type": "stream",
     "text": [
      "cdy\n",
      "love\n",
      "lan\n"
     ]
    }
   ],
   "source": [
    "active = True\n",
    "while True:\n",
    "    message = input(prompt)\n",
    "    if message != \"quit\":\n",
    "        print(message)\n",
    "    else:\n",
    "        break"
   ]
  },
  {
   "cell_type": "code",
   "execution_count": 20,
   "metadata": {},
   "outputs": [],
   "source": [
    "number = 0\n",
    "while number < 10:\n",
    "    number += 1\n",
    "    if number % 2 == 0:\n",
    "        continue\n",
    "    print(number)"
   ]
  },
  {
   "cell_type": "code",
   "execution_count": null,
   "metadata": {},
   "outputs": [],
   "source": []
  }
 ],
 "metadata": {
  "kernelspec": {
   "display_name": "base",
   "language": "python",
   "name": "python3"
  },
  "language_info": {
   "codemirror_mode": {
    "name": "ipython",
    "version": 3
   },
   "file_extension": ".py",
   "mimetype": "text/x-python",
   "name": "python",
   "nbconvert_exporter": "python",
   "pygments_lexer": "ipython3",
   "version": "3.11.5"
  }
 },
 "nbformat": 4,
 "nbformat_minor": 2
}
