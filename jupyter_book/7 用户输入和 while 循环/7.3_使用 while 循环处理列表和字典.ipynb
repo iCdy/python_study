{
 "cells": [
  {
   "cell_type": "markdown",
   "metadata": {},
   "source": [
    "## 移动列表元素"
   ]
  },
  {
   "cell_type": "code",
   "execution_count": 3,
   "metadata": {},
   "outputs": [
    {
     "name": "stdout",
     "output_type": "stream",
     "text": [
      "Alice\n",
      "Brian\n",
      "Candace\n"
     ]
    }
   ],
   "source": [
    "unconfirmed_users = ['alice', 'brian', 'candace']\n",
    "confirmed_users = []\n",
    "\n",
    "while unconfirmed_users:\n",
    "    user = unconfirmed_users.pop()\n",
    "    confirmed_users.append(user)\n",
    "\n",
    "for user in reversed(confirmed_users):\n",
    "    print(user.title())"
   ]
  },
  {
   "cell_type": "markdown",
   "metadata": {},
   "source": [
    "## 删除列表元素"
   ]
  },
  {
   "cell_type": "code",
   "execution_count": 5,
   "metadata": {},
   "outputs": [
    {
     "name": "stdout",
     "output_type": "stream",
     "text": [
      "['dog', 'cat', 'dog', 'goldfish', 'cat', 'rabbit', 'cat']\n",
      "['dog', 'dog', 'goldfish', 'rabbit']\n"
     ]
    }
   ],
   "source": [
    "pets = ['dog', 'cat', 'dog', 'goldfish', 'cat', 'rabbit', 'cat']\n",
    "print(pets)\n",
    "\n",
    "while 'cat' in pets:\n",
    "    pets.remove('cat')\n",
    "\n",
    "print(pets)"
   ]
  },
  {
   "cell_type": "code",
   "execution_count": 3,
   "metadata": {},
   "outputs": [
    {
     "name": "stdout",
     "output_type": "stream",
     "text": [
      "--- Poll Results ---\n",
      "Cdy would like to climb edd\n",
      "Lan would like to climb eee\n"
     ]
    }
   ],
   "source": [
    "responses = {\"name\": \"cdy\", \"mountain\": \"eee\"}\n",
    "responses = {\"cdy\": \"eeee\", \"lan\": \"ddd\"}\n",
    "flag = True\n",
    "while flag:\n",
    "    name = input(\"What is you name? \")\n",
    "    mountain = input(\"Which mountain would you like to climb someday? \")\n",
    "    responses[name] = mountain\n",
    "    \n",
    "    person = input(\"Would you like to let another person respond? (yes/no)\")\n",
    "    if person == 'no':\n",
    "        flag = False\n",
    "\n",
    "print(\"--- Poll Results ---\")\n",
    "for name, mountain in responses.items():\n",
    "    print(f\"{name.title()} would like to climb {mountain}\")\n",
    "    "
   ]
  },
  {
   "cell_type": "code",
   "execution_count": null,
   "metadata": {},
   "outputs": [],
   "source": []
  }
 ],
 "metadata": {
  "kernelspec": {
   "display_name": "base",
   "language": "python",
   "name": "python3"
  },
  "language_info": {
   "codemirror_mode": {
    "name": "ipython",
    "version": 3
   },
   "file_extension": ".py",
   "mimetype": "text/x-python",
   "name": "python",
   "nbconvert_exporter": "python",
   "pygments_lexer": "ipython3",
   "version": "3.11.5"
  }
 },
 "nbformat": 4,
 "nbformat_minor": 2
}
