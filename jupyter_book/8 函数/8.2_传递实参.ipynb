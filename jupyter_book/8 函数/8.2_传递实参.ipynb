{
 "cells": [
  {
   "cell_type": "markdown",
   "metadata": {},
   "source": [
    "## 位置实参"
   ]
  },
  {
   "cell_type": "code",
   "execution_count": 7,
   "metadata": {},
   "outputs": [
    {
     "name": "stdout",
     "output_type": "stream",
     "text": [
      "Type: dog\n",
      "Name: Lan\n"
     ]
    }
   ],
   "source": [
    "def describ_pet(pet_type, pet_name = \"Lan\"):\n",
    "    \"\"\"描述动物\n",
    "\n",
    "    Args:\n",
    "        pet_type (str): 宠物类型\n",
    "        pet_name (str): 宠物名称\n",
    "    \"\"\"\n",
    "    print(f\"Type: {pet_type}\")\n",
    "    print(f\"Name: {pet_name}\")\n",
    "describ_pet(\"dog\", \"Lan\")"
   ]
  },
  {
   "cell_type": "markdown",
   "metadata": {},
   "source": [
    "## 关键字实参"
   ]
  },
  {
   "cell_type": "code",
   "execution_count": 6,
   "metadata": {},
   "outputs": [
    {
     "name": "stdout",
     "output_type": "stream",
     "text": [
      "Type: dog\n",
      "Name: Lan\n"
     ]
    }
   ],
   "source": [
    "describ_pet(pet_type = \"dog\", pet_name = \"Lan\")"
   ]
  },
  {
   "cell_type": "markdown",
   "metadata": {},
   "source": [
    "## 默认值"
   ]
  },
  {
   "cell_type": "code",
   "execution_count": 9,
   "metadata": {},
   "outputs": [
    {
     "name": "stdout",
     "output_type": "stream",
     "text": [
      "Type: dog\n",
      "Name: Lan\n"
     ]
    }
   ],
   "source": [
    "describ_pet(\"dog\")"
   ]
  },
  {
   "cell_type": "code",
   "execution_count": null,
   "metadata": {},
   "outputs": [],
   "source": []
  }
 ],
 "metadata": {
  "kernelspec": {
   "display_name": "base",
   "language": "python",
   "name": "python3"
  },
  "language_info": {
   "codemirror_mode": {
    "name": "ipython",
    "version": 3
   },
   "file_extension": ".py",
   "mimetype": "text/x-python",
   "name": "python",
   "nbconvert_exporter": "python",
   "pygments_lexer": "ipython3",
   "version": "3.11.5"
  }
 },
 "nbformat": 4,
 "nbformat_minor": 2
}
