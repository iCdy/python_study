{
 "cells": [
  {
   "cell_type": "code",
   "execution_count": 1,
   "metadata": {},
   "outputs": [
    {
     "name": "stdout",
     "output_type": "stream",
     "text": [
      "cdy\n",
      "lan\n",
      "cdy\n"
     ]
    }
   ],
   "source": [
    "def print_name(*names):\n",
    "    for name in names:\n",
    "        print(name)\n",
    "\n",
    "print_name(\"cdy\")\n",
    "print_name(\"lan\", \"cdy\")"
   ]
  },
  {
   "cell_type": "markdown",
   "metadata": {},
   "source": [
    "## 使用任意数量的关键字实参"
   ]
  },
  {
   "cell_type": "code",
   "execution_count": 3,
   "metadata": {},
   "outputs": [
    {
     "name": "stdout",
     "output_type": "stream",
     "text": [
      "{'location': 'chaoyang', 'major': 'computer science', 'f_name': 'c', 'l_name': 'dy'}\n"
     ]
    }
   ],
   "source": [
    "def infos(f_name, l_name, **user_info):\n",
    "    user_info['f_name'] = f_name\n",
    "    user_info['l_name'] = l_name\n",
    "    return user_info\n",
    "\n",
    "print(infos(\"c\", \"dy\", location = \"chaoyang\", major = \"computer science\"))"
   ]
  },
  {
   "cell_type": "code",
   "execution_count": null,
   "metadata": {},
   "outputs": [],
   "source": []
  }
 ],
 "metadata": {
  "kernelspec": {
   "display_name": "base",
   "language": "python",
   "name": "python3"
  },
  "language_info": {
   "codemirror_mode": {
    "name": "ipython",
    "version": 3
   },
   "file_extension": ".py",
   "mimetype": "text/x-python",
   "name": "python",
   "nbconvert_exporter": "python",
   "pygments_lexer": "ipython3",
   "version": "3.11.5"
  }
 },
 "nbformat": 4,
 "nbformat_minor": 2
}
